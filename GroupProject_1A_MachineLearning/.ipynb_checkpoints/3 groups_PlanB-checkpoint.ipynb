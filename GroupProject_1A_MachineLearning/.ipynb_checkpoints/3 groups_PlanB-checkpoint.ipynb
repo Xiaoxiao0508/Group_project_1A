{
 "cells": [
  {
   "cell_type": "code",
   "execution_count": 1,
   "metadata": {},
   "outputs": [
    {
     "name": "stdout",
     "output_type": "stream",
     "text": [
      "<class 'pandas.core.frame.DataFrame'>\n",
      "RangeIndex: 90 entries, 0 to 89\n",
      "Data columns (total 11 columns):\n",
      " #   Column  Non-Null Count  Dtype  \n",
      "---  ------  --------------  -----  \n",
      " 0   W_PCT   90 non-null     float64\n",
      " 1   FTM     90 non-null     float64\n",
      " 2   OREB    90 non-null     float64\n",
      " 3   DREB    90 non-null     float64\n",
      " 4   AST     90 non-null     float64\n",
      " 5   TOV     90 non-null     float64\n",
      " 6   STL     90 non-null     float64\n",
      " 7   BLK     90 non-null     float64\n",
      " 8   BLKA    90 non-null     float64\n",
      " 9   PF      90 non-null     float64\n",
      " 10  PTS     90 non-null     float64\n",
      "dtypes: float64(11)\n",
      "memory usage: 7.9 KB\n"
     ]
    }
   ],
   "source": [
    "import pandas as pd\n",
    "import seaborn as sns\n",
    "import matplotlib.pyplot as pyplot\n",
    "from sklearn.ensemble import RandomForestClassifier\n",
    "from sklearn.svm import SVC\n",
    "from sklearn import svm\n",
    "from sklearn.neural_network import MLPClassifier\n",
    "from sklearn.metrics import confusion_matrix,classification_report\n",
    "from sklearn.preprocessing import StandardScaler,LabelEncoder\n",
    "from sklearn.model_selection import train_test_split\n",
    "%matplotlib inline\n",
    "# step1 loading data,check null value\n",
    "team=pd.read_csv('2010-13PlanB.csv',sep=',')\n",
    "team.info()\n",
    "# player.isnull().sum()\n",
    "# step 2, processing data,set up unique labels and group names,use labelEncoder to set up the ratio to 0,1,\n",
    "# use sns to shrew it into  a graph\n",
    "# may play with the bins and make the bins lean more towards the high win ratio\n",
    "bins=(0,0.4,0.6,1.0)\n",
    "group_names=['low','medium','high']\n",
    "team['W_PCT']=pd.cut(team['W_PCT'], bins=bins,labels=group_names)\n",
    "team['W_PCT'].unique()\n",
    "\n",
    "label_ratio=LabelEncoder()\n",
    "team['W_PCT']=label_ratio.fit_transform(team['W_PCT'].astype(str))\n",
    "# sns.countplot(x=team['W_PCT'])"
   ]
  },
  {
   "cell_type": "code",
   "execution_count": 2,
   "metadata": {},
   "outputs": [
    {
     "data": {
      "text/html": [
       "<div>\n",
       "<style scoped>\n",
       "    .dataframe tbody tr th:only-of-type {\n",
       "        vertical-align: middle;\n",
       "    }\n",
       "\n",
       "    .dataframe tbody tr th {\n",
       "        vertical-align: top;\n",
       "    }\n",
       "\n",
       "    .dataframe thead th {\n",
       "        text-align: right;\n",
       "    }\n",
       "</style>\n",
       "<table border=\"1\" class=\"dataframe\">\n",
       "  <thead>\n",
       "    <tr style=\"text-align: right;\">\n",
       "      <th></th>\n",
       "      <th>W_PCT</th>\n",
       "      <th>FTM</th>\n",
       "      <th>OREB</th>\n",
       "      <th>DREB</th>\n",
       "      <th>AST</th>\n",
       "      <th>TOV</th>\n",
       "      <th>STL</th>\n",
       "      <th>BLK</th>\n",
       "      <th>BLKA</th>\n",
       "      <th>PF</th>\n",
       "      <th>PTS</th>\n",
       "    </tr>\n",
       "  </thead>\n",
       "  <tbody>\n",
       "    <tr>\n",
       "      <th>0</th>\n",
       "      <td>2</td>\n",
       "      <td>1.528571</td>\n",
       "      <td>0.864286</td>\n",
       "      <td>2.578571</td>\n",
       "      <td>1.828571</td>\n",
       "      <td>1.164286</td>\n",
       "      <td>0.542857</td>\n",
       "      <td>0.385714</td>\n",
       "      <td>0.435714</td>\n",
       "      <td>1.685714</td>\n",
       "      <td>7.892857</td>\n",
       "    </tr>\n",
       "    <tr>\n",
       "      <th>1</th>\n",
       "      <td>0</td>\n",
       "      <td>1.518750</td>\n",
       "      <td>0.731250</td>\n",
       "      <td>2.800000</td>\n",
       "      <td>2.000000</td>\n",
       "      <td>1.200000</td>\n",
       "      <td>0.712500</td>\n",
       "      <td>0.418750</td>\n",
       "      <td>0.393750</td>\n",
       "      <td>1.887500</td>\n",
       "      <td>8.437500</td>\n",
       "    </tr>\n",
       "    <tr>\n",
       "      <th>2</th>\n",
       "      <td>2</td>\n",
       "      <td>1.268750</td>\n",
       "      <td>0.831250</td>\n",
       "      <td>2.343750</td>\n",
       "      <td>1.512500</td>\n",
       "      <td>1.043750</td>\n",
       "      <td>0.506250</td>\n",
       "      <td>0.475000</td>\n",
       "      <td>0.412500</td>\n",
       "      <td>1.768750</td>\n",
       "      <td>6.668750</td>\n",
       "    </tr>\n",
       "    <tr>\n",
       "      <th>3</th>\n",
       "      <td>0</td>\n",
       "      <td>1.492857</td>\n",
       "      <td>1.050000</td>\n",
       "      <td>2.900000</td>\n",
       "      <td>1.828571</td>\n",
       "      <td>1.128571</td>\n",
       "      <td>0.600000</td>\n",
       "      <td>0.500000</td>\n",
       "      <td>0.492857</td>\n",
       "      <td>1.778571</td>\n",
       "      <td>8.300000</td>\n",
       "    </tr>\n",
       "    <tr>\n",
       "      <th>4</th>\n",
       "      <td>1</td>\n",
       "      <td>1.606250</td>\n",
       "      <td>1.068750</td>\n",
       "      <td>2.812500</td>\n",
       "      <td>1.787500</td>\n",
       "      <td>1.250000</td>\n",
       "      <td>0.625000</td>\n",
       "      <td>0.418750</td>\n",
       "      <td>0.562500</td>\n",
       "      <td>2.031250</td>\n",
       "      <td>8.506250</td>\n",
       "    </tr>\n",
       "    <tr>\n",
       "      <th>5</th>\n",
       "      <td>0</td>\n",
       "      <td>1.593333</td>\n",
       "      <td>0.826667</td>\n",
       "      <td>2.753333</td>\n",
       "      <td>2.000000</td>\n",
       "      <td>1.226667</td>\n",
       "      <td>0.673333</td>\n",
       "      <td>0.366667</td>\n",
       "      <td>0.366667</td>\n",
       "      <td>1.786667</td>\n",
       "      <td>9.093333</td>\n",
       "    </tr>\n",
       "    <tr>\n",
       "      <th>6</th>\n",
       "      <td>0</td>\n",
       "      <td>1.892857</td>\n",
       "      <td>1.007143</td>\n",
       "      <td>3.085714</td>\n",
       "      <td>2.057143</td>\n",
       "      <td>1.235714</td>\n",
       "      <td>0.707143</td>\n",
       "      <td>0.514286</td>\n",
       "      <td>0.471429</td>\n",
       "      <td>2.128571</td>\n",
       "      <td>9.750000</td>\n",
       "    </tr>\n",
       "    <tr>\n",
       "      <th>7</th>\n",
       "      <td>1</td>\n",
       "      <td>1.561538</td>\n",
       "      <td>1.069231</td>\n",
       "      <td>2.538462</td>\n",
       "      <td>1.953846</td>\n",
       "      <td>1.161538</td>\n",
       "      <td>0.684615</td>\n",
       "      <td>0.376923</td>\n",
       "      <td>0.461538</td>\n",
       "      <td>1.892308</td>\n",
       "      <td>8.976923</td>\n",
       "    </tr>\n",
       "    <tr>\n",
       "      <th>8</th>\n",
       "      <td>2</td>\n",
       "      <td>1.378571</td>\n",
       "      <td>1.092857</td>\n",
       "      <td>2.585714</td>\n",
       "      <td>1.950000</td>\n",
       "      <td>1.214286</td>\n",
       "      <td>0.814286</td>\n",
       "      <td>0.450000</td>\n",
       "      <td>0.407143</td>\n",
       "      <td>2.021429</td>\n",
       "      <td>8.692857</td>\n",
       "    </tr>\n",
       "    <tr>\n",
       "      <th>9</th>\n",
       "      <td>2</td>\n",
       "      <td>1.706667</td>\n",
       "      <td>1.026667</td>\n",
       "      <td>2.653333</td>\n",
       "      <td>1.800000</td>\n",
       "      <td>1.140000</td>\n",
       "      <td>0.513333</td>\n",
       "      <td>0.426667</td>\n",
       "      <td>0.493333</td>\n",
       "      <td>1.780000</td>\n",
       "      <td>8.413333</td>\n",
       "    </tr>\n",
       "  </tbody>\n",
       "</table>\n",
       "</div>"
      ],
      "text/plain": [
       "   W_PCT       FTM      OREB      DREB       AST       TOV       STL  \\\n",
       "0      2  1.528571  0.864286  2.578571  1.828571  1.164286  0.542857   \n",
       "1      0  1.518750  0.731250  2.800000  2.000000  1.200000  0.712500   \n",
       "2      2  1.268750  0.831250  2.343750  1.512500  1.043750  0.506250   \n",
       "3      0  1.492857  1.050000  2.900000  1.828571  1.128571  0.600000   \n",
       "4      1  1.606250  1.068750  2.812500  1.787500  1.250000  0.625000   \n",
       "5      0  1.593333  0.826667  2.753333  2.000000  1.226667  0.673333   \n",
       "6      0  1.892857  1.007143  3.085714  2.057143  1.235714  0.707143   \n",
       "7      1  1.561538  1.069231  2.538462  1.953846  1.161538  0.684615   \n",
       "8      2  1.378571  1.092857  2.585714  1.950000  1.214286  0.814286   \n",
       "9      2  1.706667  1.026667  2.653333  1.800000  1.140000  0.513333   \n",
       "\n",
       "        BLK      BLKA        PF       PTS  \n",
       "0  0.385714  0.435714  1.685714  7.892857  \n",
       "1  0.418750  0.393750  1.887500  8.437500  \n",
       "2  0.475000  0.412500  1.768750  6.668750  \n",
       "3  0.500000  0.492857  1.778571  8.300000  \n",
       "4  0.418750  0.562500  2.031250  8.506250  \n",
       "5  0.366667  0.366667  1.786667  9.093333  \n",
       "6  0.514286  0.471429  2.128571  9.750000  \n",
       "7  0.376923  0.461538  1.892308  8.976923  \n",
       "8  0.450000  0.407143  2.021429  8.692857  \n",
       "9  0.426667  0.493333  1.780000  8.413333  "
      ]
     },
     "execution_count": 2,
     "metadata": {},
     "output_type": "execute_result"
    }
   ],
   "source": [
    "team.head(10)\n",
    "# label(1,2,0) for low,medium,high"
   ]
  },
  {
   "cell_type": "code",
   "execution_count": 3,
   "metadata": {},
   "outputs": [
    {
     "data": {
      "text/plain": [
       "2    37\n",
       "1    27\n",
       "0    26\n",
       "Name: W_PCT, dtype: int64"
      ]
     },
     "execution_count": 3,
     "metadata": {},
     "output_type": "execute_result"
    }
   ],
   "source": [
    "\n",
    "team['W_PCT'].value_counts()"
   ]
  },
  {
   "cell_type": "code",
   "execution_count": 4,
   "metadata": {},
   "outputs": [],
   "source": [
    "# step 3, seperate the dataset as response variable and feature variables, get ready for model\n",
    "X=team.drop('W_PCT',axis=1)\n",
    "y=team['W_PCT']"
   ]
  },
  {
   "cell_type": "code",
   "execution_count": 5,
   "metadata": {},
   "outputs": [],
   "source": [
    "# step 4,Use train_test_split(package) to split the data to  Train data and Test data, default test_size 25%\n",
    "X_train,X_test,y_train,y_test=train_test_split(X,y,test_size=0.2,random_state=42)"
   ]
  },
  {
   "cell_type": "code",
   "execution_count": 6,
   "metadata": {},
   "outputs": [],
   "source": [
    "#step 5 ,Scale up the data Applying Standart scaling to get optimized result eg, big number overweight the impact of small number\n",
    "sc=StandardScaler()\n",
    "X_train=sc.fit_transform(X_train)\n",
    "X_test=sc.transform(X_test)\n",
    "# X_test[:10]\n"
   ]
  },
  {
   "cell_type": "code",
   "execution_count": 7,
   "metadata": {},
   "outputs": [],
   "source": [
    "# step 6,choose classifier\n",
    "# RANDOM FOREST -Least amount of parts to fine-tune,\n",
    "# used for a medium sized data set\n",
    "# 1,create randomForest variable,2,fit the training data to it,3 predict\n",
    "rfc=RandomForestClassifier(n_estimators=200)\n",
    "rfc.fit(X_train,y_train)\n",
    "pred_rfc=rfc.predict(X_test)"
   ]
  },
  {
   "cell_type": "code",
   "execution_count": 8,
   "metadata": {},
   "outputs": [],
   "source": [
    "# X_test[:20]\n",
    "# the test data print out have been sacled"
   ]
  },
  {
   "cell_type": "code",
   "execution_count": 9,
   "metadata": {},
   "outputs": [],
   "source": [
    "# pred_rfc[:20]"
   ]
  },
  {
   "cell_type": "code",
   "execution_count": 10,
   "metadata": {},
   "outputs": [
    {
     "name": "stdout",
     "output_type": "stream",
     "text": [
      "              precision    recall  f1-score   support\n",
      "\n",
      "           0       0.00      0.00      0.00         6\n",
      "           1       0.50      1.00      0.67         4\n",
      "           2       0.50      0.62      0.56         8\n",
      "\n",
      "    accuracy                           0.50        18\n",
      "   macro avg       0.33      0.54      0.41        18\n",
      "weighted avg       0.33      0.50      0.40        18\n",
      "\n",
      "[[0 1 5]\n",
      " [0 4 0]\n",
      " [0 3 5]]\n"
     ]
    },
    {
     "name": "stderr",
     "output_type": "stream",
     "text": [
      "C:\\Users\\cxxme\\anaconda3\\lib\\site-packages\\sklearn\\metrics\\_classification.py:1221: UndefinedMetricWarning: Precision and F-score are ill-defined and being set to 0.0 in labels with no predicted samples. Use `zero_division` parameter to control this behavior.\n",
      "  _warn_prf(average, modifier, msg_start, len(result))\n"
     ]
    }
   ],
   "source": [
    "# check the performence of the model\n",
    "print(classification_report(y_test,pred_rfc))\n",
    "print(confusion_matrix(y_test,pred_rfc))\n",
    "# the consusion matrix report shows a lot of miss lable of 'low' and 'high'\n"
   ]
  },
  {
   "cell_type": "code",
   "execution_count": 11,
   "metadata": {},
   "outputs": [],
   "source": [
    "# SVM classifier\n",
    "# clf=svm.SVC()\n",
    "# clf.fit(X_train,y_train)\n",
    "# pred_clf=clf.predict(X_test)\n"
   ]
  },
  {
   "cell_type": "code",
   "execution_count": 12,
   "metadata": {},
   "outputs": [],
   "source": [
    "# check performence of model\n",
    "# print(classification_report(y_test,pred_clf))\n",
    "# print(confusion_matrix(y_test,pred_clf))"
   ]
  },
  {
   "cell_type": "code",
   "execution_count": 13,
   "metadata": {},
   "outputs": [
    {
     "name": "stdout",
     "output_type": "stream",
     "text": [
      "              precision    recall  f1-score   support\n",
      "\n",
      "           0       0.67      0.33      0.44         6\n",
      "           1       0.60      0.75      0.67         4\n",
      "           2       0.50      0.62      0.56         8\n",
      "\n",
      "    accuracy                           0.56        18\n",
      "   macro avg       0.59      0.57      0.56        18\n",
      "weighted avg       0.58      0.56      0.54        18\n",
      "\n",
      "[[2 0 4]\n",
      " [0 3 1]\n",
      " [1 2 5]]\n"
     ]
    },
    {
     "name": "stderr",
     "output_type": "stream",
     "text": [
      "C:\\Users\\cxxme\\anaconda3\\lib\\site-packages\\sklearn\\neural_network\\_multilayer_perceptron.py:582: ConvergenceWarning: Stochastic Optimizer: Maximum iterations (500) reached and the optimization hasn't converged yet.\n",
      "  warnings.warn(\n"
     ]
    }
   ],
   "source": [
    "# Neural Network classifier\n",
    "# works well with huge amount of data\n",
    "mlpc=MLPClassifier(hidden_layer_sizes=(11,11,11),max_iter=500)\n",
    "mlpc.fit(X_train,y_train)\n",
    "pred_mlpc=mlpc.predict(X_test)\n",
    "print(classification_report(y_test,pred_mlpc))\n",
    "print(confusion_matrix(y_test,pred_mlpc))\n",
    "# A convergence point is a machine learning models localized optimal state. \n",
    "# It basically means that the variables within the model have the best posible values in order to\n",
    "# predict a target feature based on another set of features. In MLP, these variables are the weights within each neuron. \n",
    "# Generally, when a data set doesn't represent a organized and discernable pattern, machine learning algorithms might not be able to find a convergence point"
   ]
  },
  {
   "cell_type": "code",
   "execution_count": 14,
   "metadata": {
    "scrolled": true
   },
   "outputs": [],
   "source": [
    "# last step, use the choosen model and given new feature data to predict \n",
    "\n",
    "# Xnew=[[1.02,0.69,2.48,1.78,1.14,0.56,0.31,0.43,1.49,7.09\n",
    "\n",
    "# ]]\n",
    "# Xnew=sc.transform(Xnew)\n",
    "# ynew=mlpc.predict(Xnew)\n",
    "# ynew"
   ]
  },
  {
   "cell_type": "code",
   "execution_count": 15,
   "metadata": {},
   "outputs": [],
   "source": [
    "# X1new=[[1.59,0.73,2.64,1.93,1.24,0.50,0.35,0.46,1.77,8.69\n",
    "# ]]\n",
    "\n",
    "# X1new=sc.transform(X1new)\n",
    "# y1new=mlpc.predict(X1new)\n",
    "# y1new"
   ]
  },
  {
   "cell_type": "code",
   "execution_count": 16,
   "metadata": {},
   "outputs": [],
   "source": [
    "# X2new=[[1.73,1.11,2.98,2.04,1.60,0.64,0.50,0.59,1.99,9.58\n",
    "\n",
    "# ]]\n",
    "# X2new=sc.transform(X2new)\n",
    "# y2new=mlpc.predict(X2new)\n",
    "# y2new"
   ]
  },
  {
   "cell_type": "code",
   "execution_count": 17,
   "metadata": {},
   "outputs": [],
   "source": [
    "# X3new=[[1.14,0.73,2.59,1.66,1.03,0.55,0.31,0.31,1.55,7.86]]\n",
    "# X3new=sc.transform(X3new)\n",
    "# y3new=mlpc.predict(X3new)\n",
    "# y3new"
   ]
  },
  {
   "cell_type": "code",
   "execution_count": 18,
   "metadata": {},
   "outputs": [],
   "source": [
    "# X4new=[[1.44,0.83,2.76,1.61,0.90,0.52,0.32,0.36,1.44,7.89\n",
    "# ]]\n",
    "# X4new=sc.transform(X4new)\n",
    "# y4new=mlpc.predict(X4new)\n",
    "# y4new"
   ]
  },
  {
   "cell_type": "code",
   "execution_count": 19,
   "metadata": {},
   "outputs": [
    {
     "data": {
      "text/plain": [
       "array([2])"
      ]
     },
     "execution_count": 19,
     "metadata": {},
     "output_type": "execute_result"
    }
   ],
   "source": [
    "X5new=[[1.29,0.66,2.76,2.28,1.15,0.62,0.56,0.29,1.53,8.77\n",
    "\n",
    "]]\n",
    "X5new=sc.transform(X5new)\n",
    "y5new=mlpc.predict(X5new)\n",
    "y5new"
   ]
  },
  {
   "cell_type": "code",
   "execution_count": 20,
   "metadata": {},
   "outputs": [
    {
     "data": {
      "text/plain": [
       "array([0])"
      ]
     },
     "execution_count": 20,
     "metadata": {},
     "output_type": "execute_result"
    }
   ],
   "source": [
    "X6new=[[1.40,0.80,2.73,1.60,1.17,0.61,0.38,0.36,1.91,8.58]]\n",
    "X6new=sc.transform(X6new)\n",
    "y6new=mlpc.predict(X6new)\n",
    "y6new"
   ]
  },
  {
   "cell_type": "code",
   "execution_count": 21,
   "metadata": {},
   "outputs": [
    {
     "data": {
      "text/plain": [
       "array([1])"
      ]
     },
     "execution_count": 21,
     "metadata": {},
     "output_type": "execute_result"
    }
   ],
   "source": [
    "X7new=[[0.99,0.71,2.28,1.43,0.83,0.57,0.29,0.35,1.45,7.01\n",
    "]]\n",
    "X7new=sc.transform(X7new)\n",
    "y7new=mlpc.predict(X7new)\n",
    "y7new"
   ]
  },
  {
   "cell_type": "code",
   "execution_count": 22,
   "metadata": {},
   "outputs": [
    {
     "data": {
      "text/plain": [
       "array([0])"
      ]
     },
     "execution_count": 22,
     "metadata": {},
     "output_type": "execute_result"
    }
   ],
   "source": [
    "X8new=[[1.66,0.84,2.91,2.05,1.35,0.78,0.39,0.55,2.00,10.42\n",
    "]]\n",
    "X8new=sc.transform(X8new)\n",
    "y8new=mlpc.predict(X8new)\n",
    "y8new"
   ]
  },
  {
   "cell_type": "code",
   "execution_count": 23,
   "metadata": {},
   "outputs": [
    {
     "data": {
      "text/plain": [
       "array([2])"
      ]
     },
     "execution_count": 23,
     "metadata": {},
     "output_type": "execute_result"
    }
   ],
   "source": [
    "X9new=[[1.14,0.65,2.51,1.91,1.17,0.59,0.39,0.42,1.55,7.52\n",
    "]]\n",
    "X9new=sc.transform(X9new)\n",
    "y9new=mlpc.predict(X9new)\n",
    "y9new"
   ]
  },
  {
   "cell_type": "code",
   "execution_count": null,
   "metadata": {},
   "outputs": [],
   "source": []
  },
  {
   "cell_type": "code",
   "execution_count": null,
   "metadata": {},
   "outputs": [],
   "source": []
  },
  {
   "cell_type": "code",
   "execution_count": null,
   "metadata": {},
   "outputs": [],
   "source": []
  }
 ],
 "metadata": {
  "kernelspec": {
   "display_name": "Python 3",
   "language": "python",
   "name": "python3"
  },
  "language_info": {
   "codemirror_mode": {
    "name": "ipython",
    "version": 3
   },
   "file_extension": ".py",
   "mimetype": "text/x-python",
   "name": "python",
   "nbconvert_exporter": "python",
   "pygments_lexer": "ipython3",
   "version": "3.8.5"
  }
 },
 "nbformat": 4,
 "nbformat_minor": 4
}
