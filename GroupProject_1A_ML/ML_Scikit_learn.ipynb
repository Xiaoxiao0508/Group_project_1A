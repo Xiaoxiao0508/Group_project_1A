{
 "cells": [
  {
   "cell_type": "code",
   "execution_count": 1,
   "metadata": {},
   "outputs": [
    {
     "name": "stdout",
     "output_type": "stream",
     "text": [
      "<class 'pandas.core.frame.DataFrame'>\n",
      "RangeIndex: 452 entries, 0 to 451\n",
      "Data columns (total 27 columns):\n",
      " #   Column           Non-Null Count  Dtype  \n",
      "---  ------           --------------  -----  \n",
      " 0   AGE              452 non-null    int64  \n",
      " 1   W_PCT            452 non-null    float64\n",
      " 2   MIN              452 non-null    float64\n",
      " 3   FGM              452 non-null    float64\n",
      " 4   FGA              452 non-null    float64\n",
      " 5   FG_PCT           452 non-null    float64\n",
      " 6   FG3M             452 non-null    float64\n",
      " 7   FG3A             452 non-null    float64\n",
      " 8   FG3_PCT          452 non-null    float64\n",
      " 9   FTM              452 non-null    float64\n",
      " 10  FTA              452 non-null    float64\n",
      " 11  FT_PCT           452 non-null    float64\n",
      " 12  OREB             452 non-null    float64\n",
      " 13  DREB             452 non-null    float64\n",
      " 14  REB              452 non-null    float64\n",
      " 15  AST              452 non-null    float64\n",
      " 16  TOV              452 non-null    float64\n",
      " 17  STL              452 non-null    float64\n",
      " 18  BLK              452 non-null    float64\n",
      " 19  BLKA             452 non-null    float64\n",
      " 20  PF               452 non-null    float64\n",
      " 21  PFD              452 non-null    float64\n",
      " 22  PTS              452 non-null    float64\n",
      " 23  PLUS_MINUS       452 non-null    float64\n",
      " 24  NBA_FANTASY_PTS  452 non-null    float64\n",
      " 25  DD2              452 non-null    int64  \n",
      " 26  TD3              452 non-null    int64  \n",
      "dtypes: float64(24), int64(3)\n",
      "memory usage: 95.5 KB\n"
     ]
    },
    {
     "data": {
      "text/plain": [
       "<AxesSubplot:xlabel='W_PCT', ylabel='count'>"
      ]
     },
     "execution_count": 1,
     "metadata": {},
     "output_type": "execute_result"
    },
    {
     "data": {
      "image/png": "[encoded data removed]",
      "text/plain": [
       "<Figure size 432x288 with 1 Axes>"
      ]
     },
     "metadata": {
      "needs_background": "light"
     },
     "output_type": "display_data"
    }
   ],
   "source": [
    "import pandas as pd\n",
    "import seaborn as sns\n",
    "import matplotlib.pyplot as pyplot\n",
    "from sklearn.ensemble import RandomForestClassifier\n",
    "from sklearn.svm import SVC\n",
    "from sklearn import svm\n",
    "from sklearn.neural_network import MLPClassifier\n",
    "from sklearn.metrics import confusion_matrix,classification_report\n",
    "from sklearn.preprocessing import StandardScaler,LabelEncoder\n",
    "from sklearn.model_selection import train_test_split\n",
    "%matplotlib inline\n",
    "# step1 loading data,check null value\n",
    "player=pd.read_csv('2010-11.csv',sep=',')\n",
    "player.info()\n",
    "player.isnull().sum()\n",
    "# step 2, processing data,set up unique labels and group names,use labelEncoder to set up the ratio to 0,1,\n",
    "# use sns to shrew it into  a graph\n",
    "# may play with the bins and make the bins lean more towards the high win ratio\n",
    "bins=(-0.1,0.5,1.0)\n",
    "group_names=['lose','win']\n",
    "player['W_PCT']=pd.cut(player['W_PCT'], bins=bins,labels=group_names)\n",
    "player['W_PCT'].unique()\n",
    "label_ratio=LabelEncoder()\n",
    "player['W_PCT']=label_ratio.fit_transform(player['W_PCT'].astype(str))\n",
    "player.head(20)\n",
    "player['W_PCT'].value_counts()\n",
    "sns.countplot(x=player['W_PCT'])\n"
   ]
  },
  {
   "cell_type": "code",
   "execution_count": 2,
   "metadata": {},
   "outputs": [],
   "source": [
    "# step 3, seperate the dataset as response variable and feature variables, get ready for model\n",
    "X=player.drop('W_PCT',axis=1)\n",
    "y=player['W_PCT']"
   ]
  },
  {
   "cell_type": "code",
   "execution_count": 3,
   "metadata": {},
   "outputs": [],
   "source": [
    "# step 4,Use train_test_split(package) to split the data to  Train data and Test data, default test_size 25%\n",
    "X_train,X_test,y_train,y_test=train_test_split(X,y,test_size=0.2,random_state=42)"
   ]
  },
  {
   "cell_type": "code",
   "execution_count": 4,
   "metadata": {},
   "outputs": [],
   "source": [
    "#step 5 ,Scale up the data Applying Standart scaling to get optimized result eg, big number overweight the impact of small number\n",
    "sc=StandardScaler()\n",
    "X_train=sc.fit_transform(X_train)\n",
    "X_test=sc.transform(X_test)\n",
    "# X_test[:10]\n"
   ]
  },
  {
   "cell_type": "code",
   "execution_count": 5,
   "metadata": {},
   "outputs": [],
   "source": [
    "# step 6,choose classifier\n",
    "# RANDOM FOREST -Least amount of parts to fine-tune,\n",
    "# used for a medium sized data set\n",
    "# 1,create randomForest variable,2,fit the training data to it,3 predict\n",
    "rfc=RandomForestClassifier(n_estimators=200)\n",
    "rfc.fit(X_train,y_train)\n",
    "pred_rfc=rfc.predict(X_test)"
   ]
  },
  {
   "cell_type": "code",
   "execution_count": 6,
   "metadata": {},
   "outputs": [],
   "source": [
    "# X_test[:20]\n",
    "# the test data print out have been sacled"
   ]
  },
  {
   "cell_type": "code",
   "execution_count": 7,
   "metadata": {},
   "outputs": [
    {
     "data": {
      "text/plain": [
       "array([0, 1, 1, 0, 1, 1, 0, 1, 0, 1, 1, 1, 0, 0, 0, 1, 0, 1, 0, 1])"
      ]
     },
     "execution_count": 7,
     "metadata": {},
     "output_type": "execute_result"
    }
   ],
   "source": [
    "pred_rfc[:20]"
   ]
  },
  {
   "cell_type": "code",
   "execution_count": 8,
   "metadata": {},
   "outputs": [
    {
     "name": "stdout",
     "output_type": "stream",
     "text": [
      "              precision    recall  f1-score   support\n",
      "\n",
      "           0       0.88      0.86      0.87        51\n",
      "           1       0.83      0.85      0.84        40\n",
      "\n",
      "    accuracy                           0.86        91\n",
      "   macro avg       0.85      0.86      0.86        91\n",
      "weighted avg       0.86      0.86      0.86        91\n",
      "\n",
      "[[44  7]\n",
      " [ 6 34]]\n"
     ]
    }
   ],
   "source": [
    "# check the performence of the model\n",
    "print(classification_report(y_test,pred_rfc))\n",
    "print(confusion_matrix(y_test,pred_rfc))\n",
    "# the consusion matrix report shows a lot of miss lable of 'win'\n"
   ]
  },
  {
   "cell_type": "code",
   "execution_count": 9,
   "metadata": {},
   "outputs": [],
   "source": [
    "# SVM classifier\n",
    "# clf=svm.SVC()\n",
    "# clf.fit(X_train,y_train)\n",
    "# pred_clf=clf.predict(X_test)\n"
   ]
  },
  {
   "cell_type": "code",
   "execution_count": 10,
   "metadata": {},
   "outputs": [],
   "source": [
    "# check performence of model\n",
    "# print(classification_report(y_test,pred_clf))\n",
    "# print(confusion_matrix(y_test,pred_clf))"
   ]
  },
  {
   "cell_type": "code",
   "execution_count": 11,
   "metadata": {},
   "outputs": [],
   "source": [
    "# Neural Network classifier\n",
    "# works well with huge amount of data\n",
    "# mlpc=MLPClassifier(hidden_layer_sizes=(11,11,11),max_iter=500)\n",
    "# mlpc.fit(X_train,y_train)\n",
    "# pred_mlpc=mlpc.predict(X_test)\n",
    "# print(classification_report(y_test,pred_mlpc))\n",
    "# print(confusion_matrix(y_test,pred_mlpc))\n",
    "# A convergence point is a machine learning models localized optimal state. \n",
    "# It basically means that the variables within the model have the best posible values in order to\n",
    "# predict a target feature based on another set of features. In MLP, these variables are the weights within each neuron. \n",
    "# Generally, when a data set doesn't represent a organized and discernable pattern, machine learning algorithms might not be able to find a convergence point"
   ]
  },
  {
   "cell_type": "code",
   "execution_count": 12,
   "metadata": {},
   "outputs": [],
   "source": [
    "# last step, use the choosen model and given new feature data to predict \n",
    "Xnew=[[20,18,3.6,9.9,0.36,1.2,2,0.28,2,2,0.7,0.2,0,1,2,1,0.5,0.1,0.5,1.3,2,9,-2,15,0,0]]\n"
   ]
  },
  {
   "cell_type": "code",
   "execution_count": 13,
   "metadata": {},
   "outputs": [
    {
     "data": {
      "text/plain": [
       "array([0])"
      ]
     },
     "execution_count": 13,
     "metadata": {},
     "output_type": "execute_result"
    }
   ],
   "source": [
    "Xnew=sc.transform(Xnew)\n",
    "ynew=rfc.predict(Xnew)\n",
    "ynew"
   ]
  }
 ],
 "metadata": {
  "kernelspec": {
   "display_name": "Python 3",
   "language": "python",
   "name": "python3"
  },
  "language_info": {
   "codemirror_mode": {
    "name": "ipython",
    "version": 3
   },
   "file_extension": ".py",
   "mimetype": "text/x-python",
   "name": "python",
   "nbconvert_exporter": "python",
   "pygments_lexer": "ipython3",
   "version": "3.8.5"
  }
 },
 "nbformat": 4,
 "nbformat_minor": 4
}
